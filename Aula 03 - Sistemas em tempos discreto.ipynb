{
 "cells": [
  {
   "cell_type": "markdown",
   "id": "1f67dfb6",
   "metadata": {},
   "source": [
    "# Aula 3 - Sistemas em Tempo Discreto\n",
    "\n",
    "Versão 2023\n",
    "\n",
    "Essas notas de aula podem ser compartilhadas nos termos da lincença Creative Commons CC BY-NC-ND 4.0, com propósitos exclusivamente educacionais.\n",
    "\n",
    "Attribution-NonCommercial-NoDerivatives 4.0 International"
   ]
  },
  {
   "cell_type": "markdown",
   "id": "fdab13ab",
   "metadata": {},
   "source": [
    "---\n",
    "## 1. Introdução\n",
    "* Sistema Discreto no tempo: é um operador matemático ou uma transformação $T\\{ . \\}$ que se opera em um sinal (entrada), transformando-o em outro sinal (saída).\n",
    "\n",
    "* Sinal de Entrada: Excitação ou $x[n]$.\n",
    "* Sinal de Resposta ou Saída ou resposta do sistema:  $y[n]$.\n",
    "\n",
    "<font size=\"6\">$ y[n] = T\\{x[n]\\}$</font>\n",
    "\n",
    "**Modelo Black Box (ou caixa preta)** \n",
    "\n",
    "<font size=\"5\">$x[n] \\to \\fbox{T\\{\\}} \\to y[n] $</font>"
   ]
  },
  {
   "cell_type": "markdown",
   "id": "dc41d1d3",
   "metadata": {},
   "source": [
    "<font size=\"4\">**Exemplo 1 - Sistema de atraso**</font>\n",
    "\n",
    "<font size=\"4\">**$y[n]=x[n-n_d]$**</font>\n",
    "\n",
    "<font size=\"3\">Atrasa o sinal de entrada de $n_d$ amostras ($n_d > 0$). Caso $n_d < 0$ tem-se um avanço no sinal.</font>\n",
    "\n",
    "\n"
   ]
  },
  {
   "cell_type": "markdown",
   "id": "42209960",
   "metadata": {},
   "source": [
    "\n",
    "<font size=\"4\">**Exemplo 2 - Cálculo da Média**</font> \n",
    "\n",
    "<font size=\"4\">$ y[n] = \\frac{1}{M_1+M_2+1} \\sum_{k=-M_1}^{M_2}x[n-k] $</font>\n"
   ]
  },
  {
   "cell_type": "markdown",
   "id": "97dbb8a8",
   "metadata": {},
   "source": [
    "<font size=\"4\"> **Exemplo 3 - Sistema sem Memória** </font>\n",
    "\n",
    "**Definição:** A saída depende somente da entrada no instante atual.\n",
    "\n",
    "<font size=\"4\">$y[n] = x[n]^2$</font>"
   ]
  },
  {
   "cell_type": "markdown",
   "id": "2b296b67",
   "metadata": {},
   "source": [
    "<font size=\"4\"> **Exemplo 4 - Acumulador** </font>\n",
    "\n",
    "<font size=\"4\">$y[n] = \\sum_{k=-\\infty}^{n}x[k]$</font>\n",
    "\n",
    "<font size=\"4\">Desenvolvendo a equação acima:</font>\n",
    "\n",
    "$$ y[n] = \\sum_{k=-\\infty}^{n-1}x[k]+x[n] \\; \\Rightarrow \\; y[n] = y[n-1] + x[n]$$\n",
    "\n",
    "* A equação acima justifica o termo “acumulador”, pois a saída depende do valor presente da entrada $x[n]$ e do valor anterior da saída $y[n-1]$.\n",
    "\n",
    "* Observe também que a resposta depende das condições iniciais do sistema."
   ]
  },
  {
   "cell_type": "markdown",
   "id": "3c083892",
   "metadata": {},
   "source": [
    "<font size=\"4\"> **Exemplo 5** </font>\n",
    "\n",
    "* Considere que a sequência $ x[n] = nu[n] $ é aplicada em um acumulador:\n",
    "\n",
    "1. caso: $y[-1] = 0$ \n",
    "\n",
    "$$ y[n] = \\sum_{k=-\\infty}^{n}ku[k] = \\sum_{k=0}^{n}k = \\frac{n(n+1)}{2} $$\n",
    "\n",
    "\n",
    "2. caso: $y[-1] = 1$\n",
    "\n",
    "$$ y[n] = \\sum_{k=-\\infty}^{n}ku[k] = y[-1] + \\sum_{k=0}^{n}k = \\frac{n(n+1)+2}{2} $$\n",
    "\n",
    "* A saída depende de $y[-1]$ (condições iniciais).\n",
    "* Se as condições iniciais são nulas o sistema é dito estar em repouso."
   ]
  },
  {
   "cell_type": "markdown",
   "id": "01ef5639",
   "metadata": {},
   "source": [
    "\n",
    "## 2. Sistemas Lineares Discretos no Tempo\n",
    "\n",
    "* Seja: $y_1[n], \\dots, y_M[n]$ as saídas do sistema correspondentes às entradas $x_1[n], \\dots, x_M[n]$. Então, para um sistema linear discreto no tempo tem-se que:\n",
    "\n",
    "<font size=\"4\">$\\begin{split} T\\{a_1x_1[n]+\\cdots+a_Mx_M[n]\\} = &a_1T\\{x_1[n]\\} + &\\cdots+a_MT\\{x_M[n]\\} \\\\\n",
    " = &a_1y_1[n] +\\cdots+a_My_M[n] \\end{split}$</font>\n",
    " \n",
    "Em que: $M$ é um número inteiro e $a_1, \\dots, a_M$ são constantes.\n",
    "\n"
   ]
  },
  {
   "cell_type": "markdown",
   "id": "1a9ae751",
   "metadata": {},
   "source": [
    "<font size=\"4\">**Exemplo 6**</font>\n",
    "\n",
    "<font size=\"4\">**O sistema $ y[n] = nx[n] $ é linear**</font>\n",
    "\n",
    "Justificativa: \n",
    "\n",
    "$y[n] = T[a_1x_1[n] +a_2x_2[n]] = n[a_1x_1[n] + a_2x_2[n]] = na_1x_1[n] + na_2x_2[n] = a_1y_1[n] + a_2y_2[n]$"
   ]
  },
  {
   "cell_type": "markdown",
   "id": "0f78f974",
   "metadata": {},
   "source": [
    "---\n",
    "<font size=\"4\">**Exemplo 7**</font>\n",
    "\n",
    "<font size=\"4\">**O acumulador é um sistema linear\"**</font>\n",
    "\n",
    "<font size=\"4\">$ y[n] = \\sum_{k=-\\infty}^{n}x[k] $</font>\n",
    "\n",
    "Justificativa: \n",
    "\n",
    "<font size=\"4\">$ y[n] = \\sum_{k=-\\infty}^{n}[a_1x_1[k]+a_2x_2[k]] = \\sum_{k=-\\infty}^{n}a_1x_1[k] + \\sum_{k=-\\infty}^{n}a_2x_2[k] $</font>\n",
    "\n",
    "\n",
    "<font size=\"4\">$$ = a_1y_1[n] + a_2y_2[n] $$</font>\n"
   ]
  },
  {
   "cell_type": "markdown",
   "id": "08cbcbe8",
   "metadata": {},
   "source": [
    "---\n",
    "<font size=\"4\">**Exemplo 8**</font>\n",
    "\n",
    "<font size=\"4\">O sistema abaixo é não-linear</font>\n",
    "\n",
    "\n",
    "<font size=\"4\">$ y[n] = x^2[n] $</font>\n",
    "\n",
    "Justificativa:\n",
    "\n",
    "<font size=\"4\">$ y[n] = [a_1x_1[n] + a_2x_2[n]]^2 \\neq a_1y_1[n] + a_2y_2[n] $</font>"
   ]
  },
  {
   "cell_type": "markdown",
   "id": "6e0d73a4",
   "metadata": {},
   "source": [
    "---\n",
    "---\n",
    "## 3. Sistemas Invariante ao Deslocamento\n",
    "\n",
    "* Um sistema é invariante ao deslocamento se: \n",
    "\n",
    "$$y[n] = T\\{x[n]\\} \\; \\Rightarrow \\; T\\{x[n-n_d]\\} = y[n-n_d] $$ \n",
    "\n",
    "* Em que o deslocamento $n_d$ é um número inteiro.\n"
   ]
  },
  {
   "cell_type": "markdown",
   "id": "8179c09b",
   "metadata": {},
   "source": [
    "<font size=\"4\">**Exemplo 9**</font>\n",
    "\n",
    "<font size=\"4\">\"O Diferenciador é um sistema invariante ao deslocamento\"</font>\n",
    "\n",
    "$$ y[n] = x[n] - x[n-1] $$\n",
    "\n",
    "**Justificativa:**\n",
    "\n",
    "$$ y[n,n_d] = T[x[n-n_d]] = x[n-n_d] - x[n-n_d-1]\\\\ = y[n-n_d] $$"
   ]
  },
  {
   "cell_type": "markdown",
   "id": "b568f5ee",
   "metadata": {},
   "source": [
    "<font size=\"4\">**Exemplo 10**</font>\n",
    "\n",
    "<font size=\"4\">O Sistema Decimador é variante ao deslocamento a não ser que M = 1</font>\n",
    "\n",
    "$$ y[n] = x[Mn] $$\n",
    "\n",
    "\n",
    "$$ \\mbox{Justificativa: Seja: } x_1[n] = x[n-n_d]$$\n",
    "\n",
    "\n",
    "$$ \\mbox{Assim:} y[n] = x_1[Mn] = x[M(n-n_d)] = x[Mn-Mn_d] \\neq y[n-n_d] $$\n"
   ]
  },
  {
   "cell_type": "markdown",
   "id": "74fcfa6a",
   "metadata": {},
   "source": [
    "<font size=\"4\">**Outros exemplos de sistemas variantes ao deslocamento:**\n",
    "\n",
    "<font size=\"4\">**Exemplo 11**</font>\n",
    "    \n",
    "$$ y[n] = nx[n] $$\n",
    "\n",
    "Justificativa:\n",
    "$y[n,n_d] = nx[n-n_d] \\neq y[n-n_d]$\n",
    "\n",
    "<font size=\"4\">**Exemplo 12**</font>\n",
    "\n",
    "$$ y[n] = x[-n] $$\n",
    "    \n",
    "Justificativa:\n",
    "\n",
    "Seja: $x_1[n] = x[n-n_d]$\n",
    "    \n",
    "Assim: $y[n] = x_1[-n] = x[-n-n_d] \\neq y[n-n_d] $"
   ]
  },
  {
   "cell_type": "markdown",
   "id": "e2781191",
   "metadata": {},
   "source": [
    "## 4. Sistemas Causais\n",
    "\n",
    "* Definição: A saída em qualquer instante $n$ depende somente dos valores presente e passados da entrada $\\{x[n], x[n-1], \\dots x[n-M]\\}$, mas não dos valores futuros $\\{x[n+1], \\dots \\}$.\n",
    "\n",
    "* A saída no instante $n = n_0$ depende somente dos valores da entrada para $n \\leq n_0$."
   ]
  },
  {
   "cell_type": "markdown",
   "id": "cdb4315c",
   "metadata": {},
   "source": [
    "<font size=\"4\">**Exemplos de Sistemas causais**</font><font size=\"4\">\n",
    "\n",
    "<font size=\"4\">1. $ y[n] = x[n] - x[n-1]$</font>\n",
    "    \n",
    "<font size=\"4\">2. $ y[n]= \\sum_{k=-\\infty}^{n}x[k]$</font>\n",
    "    \n",
    "<font size=\"4\">3. $ y[n] = ax[n]$</font>"
   ]
  },
  {
   "cell_type": "markdown",
   "id": "00138067",
   "metadata": {},
   "source": [
    "<font size=\"4\">**Exemplos de Sistemas não causais**</font>\n",
    "\n",
    "<font size=\"4\">1. $ y[n] = x[n] + x[n+1] $</font>\n",
    "\n",
    "<font size=\"4\">2. $ y[n] = x[n^2] $</font>\n",
    "\n",
    "<font size=\"4\">3. $ y[n] = x[2n] $</font>"
   ]
  },
  {
   "cell_type": "markdown",
   "id": "0ccbe562",
   "metadata": {},
   "source": [
    "---\n",
    "---\n",
    "## 5. Sistemas Estáveis\n",
    "\n",
    "<font size=\"4\">Um sistema em repouso é chamado de estável se e somente se para uma sequência de entrada limitada tem-se uma saída limitada.</font>\n",
    "\n",
    "<font size=\"4\">$$ |x(n)| \\leq B_x < \\infty \\; \\Rightarrow \\; |y(n)| \\leq B_y < \\infty $$</font>\n",
    "\n",
    "<font size=\"4\">**Exemplo de Sistemas Estáveis**</font>\n",
    "\n",
    "<font size=\"4\">1. $ y[n] = x[n-n_d] $</font>\n",
    "\n",
    "<font size=\"4\">2. $ y[n] = x[n]^2 $</font>\n",
    "\n",
    "<font size=\"4\">3. $ y[n] = x[Mn] $</font>\n",
    "\n",
    "\n",
    "<font size=\"4\">**Exemplo de Sistemas Instáveis**</font>\n",
    "\n",
    "* O acumulador é um sistema instável\n",
    "\n",
    "$$ y[n] = \\sum_{k=-\\infty}^{n} x[k] $$\n",
    "\n",
    "* Seja x[n] = u[n] que é limitada pois $|u[n]| = 1$, $\\forall n>0$. Então:\n",
    "\n",
    "$$ y[n] = \\sum_{k=-\\infty}^{n} u[k] = \\begin{cases} 0, & n < 0 \\\\ n+1, & n \\geq 0 \\end{cases} $$\n",
    "\n",
    "* Embora $n$ seja finito não existe um valor fixo para $B_y$ tal que $(n+1)\\leq B_y < \\infty$"
   ]
  },
  {
   "cell_type": "markdown",
   "id": "0b4eef5e",
   "metadata": {},
   "source": [
    "## 6. Representação em Diagrama de Blocos\n",
    "\n",
    "* Bloco somador:\n",
    "\n",
    "![somador](figuras/Aula_3_Slide_13_2.png)\n",
    "\n",
    "\n"
   ]
  },
  {
   "cell_type": "markdown",
   "id": "39c4ff6d",
   "metadata": {},
   "source": [
    "* Bloco de atraso:\n",
    "\n",
    "![atraso](figuras/Aula_3_Slide_13_3.png)"
   ]
  },
  {
   "cell_type": "markdown",
   "id": "421e057e",
   "metadata": {},
   "source": [
    "<font size=\"4\">Exemplo 13: Represente em diagrama de blocos o seguinte sistema:</font>\n",
    "\n",
    "$$ y[n] - y[n-1] = 0.5x[n] + 0.5x[n-1] $$\n",
    "\n",
    "Rearranjando a equação tem-se:\n",
    "\n",
    "$$ y[n] = y[n-1] + 0.5[x[n]+x[n-1]] $$"
   ]
  },
  {
   "cell_type": "markdown",
   "id": "e8fc4b70",
   "metadata": {},
   "source": [
    "<font size=\"4\">E portanto tem-se o seguinte diagrama de blocos:</font>\n",
    "\n",
    "![diagrama_blocos](figuras/Aula_3_Slide_14.png)\n",
    "\n",
    "<center>Observe que foi economizado um bloco multiplicador.</center>"
   ]
  },
  {
   "cell_type": "markdown",
   "id": "08bcbd8d",
   "metadata": {},
   "source": [
    "\n",
    "## 7. Sistemas Lineares Discretos e Invariantes ao Deslocamento (tempo)\n",
    "* <font size=\"4\">Os Sistemas são classificados por suas propriedades ou categorias:</font>\n",
    "\n",
    "* <font size=\"4\">Linearidade - Causalidade - Estabilidade - Invariância ao deslocamento.</font>\n",
    "\n",
    "* <font size=\"4\">Os Sistemas lineares discretos e invariantes ao deslocamento (SLDI)</font>\n",
    "\n",
    "* <font size=\"4\">São caracterizados pela resposta à amostra unitária.</font>\n",
    "\n",
    "* <font size=\"4\">A expressão que relaciona entrada e saída é dada pela soma de convolução.</font>\n"
   ]
  },
  {
   "cell_type": "markdown",
   "id": "cdaa2bfe",
   "metadata": {},
   "source": [
    "### 7.1. Determinação da Resposta do Sistema    \n",
    "* Seja $h[n]$ a resposta à excitação $\\delta[n]$\n",
    "\n",
    "* Foi visto anteriormente podemos escrever $x[n]$ com auxílio da função impulso tal que:\n",
    "\n",
    "$$ x[n] = \\sum_{k=-\\infty}^{\\infty}x[k]\\cdot \\delta[n-k] $$\n",
    "\n",
    "* Pela definição tem-se que:\n",
    "\n",
    "$$ y[n] = T[x[n]] = T\\left[\\sum_{k=-\\infty}^{\\infty}x[k]\\delta[n-k]\\right] $$\n",
    "\n",
    "* Pelo princípio da superposição podemos trocar as ordens das operações de soma e transformação, assim:\n",
    "\n",
    "$$ y[n] = \\sum_{k=-\\infty}^{\\infty}x[k]T[\\delta[n-k]] $$\n",
    "\n",
    "Como por hipótese o sistema é invariante ao deslocamento, então a resposta à excitação $\\delta[n-k]$ será $h[n-k]$. Assim:\n",
    "\n",
    "$$ y[n] = \\sum_{k=-\\infty}^{\\infty}x[k]\\cdot h[n-k] = x[n] \\ast h[n]$$\n",
    "\n",
    "**Portanto:** $y[n]$ está relacionado com a entrada através da soma de convolução entre $x[n]$ e $h[n]$."
   ]
  },
  {
   "cell_type": "markdown",
   "id": "29fa54c3",
   "metadata": {},
   "source": [
    "### 7.2. A Soma de Convolução\n",
    "<center>Suponha que se quer calcular a saída do sistema para $n = n_0$</center>\n",
    "\n",
    "$$ y[n_0] = \\sum_{k=-\\infty}^{\\infty}x[k]h[n_0-k] $$\n",
    "\n",
    "1. Rebate-se $h[k]$ em torno do índice zero $\\Rightarrow$ $h[-k]$\n",
    "2. Desloca-se $h[-k]$ por $n_0$ amostras (à direita ou à esquerda)\n",
    "3. Multiplica-se cada elemento $x[k]$ por $h[n_0-k]$ para se obter a sequência produto $x[k]$ $h[n_0-k]$\n",
    "4. Soma-se todos os valores da sequência produto $\\Rightarrow$ $y[n_0]$\n",
    "5. Repete-se os passos acima para todos os valores de $n$."
   ]
  },
  {
   "cell_type": "markdown",
   "id": "5bcad3c6",
   "metadata": {},
   "source": [
    "<font size=\"5\">**Exemplo 14:  Determine a convolução entre as seguintes sequências:**</font>\n",
    "\n",
    "$$ h[n]=\\{1, \\underline{\\underline{2}}, 1, -1\\} \\mbox{ e } x[n]=\\{\\underline{\\underline{1}}, 2, 3, 1\\}$$\n",
    "\n",
    "1. Rebatimento de $h[k]$: $h[-k] = \\{-1, 1, \\underline{\\underline{2}}, 1\\}$\n",
    "\n",
    "2. Cálculo de $y[0]$: \n",
    "\n",
    "$$ \\begin{split} -1 \\; 1 \\; 2 \\; 1 \\; 0 \\; 0 \\; & \\; h[n-k] \\mbox{: neste caso } h[-k] \\\\\n",
    "  0 \\; 0 \\; 1 \\; 2 \\; 3 \\; 1 \\; & \\; x[k] \\\\\n",
    " ------ & \\\\\n",
    "  0 \\; 0 \\; 2 \\; 2 \\; 0 \\; 0 \\; & \\Rightarrow \\; y[0]=4 \\end{split} $$\n",
    "  \n",
    "3. No final tem-se: \n",
    "\n",
    "$$y[n] = x[n]\\ast h[n] = \\{1, \\underline{\\underline{4}}, 8, 8, 3, -2, -1\\}$$\n",
    "\n",
    "4. Tamanho da Sequência: $L=4+4-1=7$\n",
    "\n",
    "<center> Em geral: $L=M+N-1$ </center>"
   ]
  },
  {
   "cell_type": "markdown",
   "id": "9d5118d5",
   "metadata": {},
   "source": [
    "---\n",
    "### 7.3 Propriedades da Convolução e Interconexão de Sistemas SLDI\n",
    "\n",
    "a) Comutativa:\n",
    "\n",
    "$$ [n]\\ast h[n] = h[n]\\ast x[n] = \\sum_{k=-\\infty}^{\\infty}h[k]x[n-k]$$"
   ]
  },
  {
   "cell_type": "markdown",
   "id": "3b48b5cc",
   "metadata": {},
   "source": [
    "b) Associativa:\n",
    "\n",
    "$$ [x[n]\\ast h_1[n]]\\ast h_2[n] = x[n]\\ast [h_1[n]\\ast h_2[n]]$$\n",
    "\n",
    "![Aula_3_Slide_19_1.png](figuras/Aula_3_Slide_19_1.png)"
   ]
  },
  {
   "cell_type": "markdown",
   "id": "5a4aa639",
   "metadata": {},
   "source": [
    "c) Distributiva:\n",
    "\n",
    "$$ x[n]\\ast [h_1[n] + h_2[n]] = x[n]\\ast h_1[n] + x[n]\\ast h_2[n]$$\n",
    "\n",
    "![Aula_3_Slide_19_2.png](figuras/Aula_3_Slide_19_2.png)"
   ]
  },
  {
   "cell_type": "markdown",
   "id": "05c94f77",
   "metadata": {},
   "source": [
    "---\n",
    "## 8. Causalidade e Estabilidade em sistemas SLDI\n",
    "\n",
    "* Nos Sistemas lineares discretos e invariantes no tempo a estabilidade e causalidade são verificadas através de $h[n]$.\n",
    "\n",
    "<font size=\"4\">a) Causalidade:</font>\n",
    "* Considere um sistema SLDI em um instante $n_0$ qualquer:\n",
    "\n",
    "$$y[n_0] = \\sum_{k=-\\infty}^{\\infty}h[k]x[n_0-k]$$\n",
    "\n",
    "* Desdobrando a equação acima tem-se:\n",
    "\n",
    "$$y[n_0] = \\sum_{k=-\\infty}^{-1}h[k]\\cdot x[n_0-k] + \\sum_{k=0}^{\\infty}h[k]\\cdot x[n_0-k] $$\n",
    "\n",
    "* 1º. Termo envolve os valores futuros $x[n_0+1]$, $x[n_0+2] \\dots$\n",
    "* Para $y[n_0]$ não depender deles: $h[-1] = h[-2] = \\dots = 0$\n",
    "\n",
    "$$\\mbox{sistema causal} \\; \\Rightarrow \\; h[n]=0, \\; n<0$$\n",
    "\n",
    "* Para um sistema causal é válida a expressão:\n",
    "\n",
    "$$y[n] = \\sum_{k=0}^{\\infty}h[k]x[n-k]$$\n",
    "\n",
    "<font size=\"4\">b) Estabilidade: Entrada limitada $\\Rightarrow$ Saída limitada</font>\n",
    "\n",
    "$$|y[n]| = |\\sum_{k=-\\infty}^{\\infty}h[k]x[n-k]| \\leq \\sum_{k=-\\infty}^{\\infty}|h[k]||x[n-k]|$$\n",
    "\n",
    "$$\\mbox{Como por hipótese }|x[n]| \\leq B_x \\; \\Rightarrow \\; |y[n]| \\leq B_x \\sum_{k=-\\infty}^{\\infty}|h[k]|$$\n",
    "\n",
    "$$\\mbox{Como por hipótese }|y[n]| \\leq B_y \\; \\Rightarrow \\; \\sum_{k=-\\infty}^{\\infty}|h[k]| \\leq B_h < \\infty$$\n",
    "\n",
    "Consequência: $h[n]$ deve ser absolutamente somável, isto é, decair para zero conforme $n\\rightarrow \\infty$"
   ]
  },
  {
   "cell_type": "markdown",
   "id": "398fbe02",
   "metadata": {},
   "source": [
    "---\n",
    "## 9. Observações\n",
    "1. A resposta ao impulso classifica os sistemas SLDI quanto à sua duração:\n",
    "\n",
    "2. FIR: Resposta ao Impulso Finita\n",
    "\n",
    "$$ h[n]=0,\\; n>N_1\\mbox{ e } n<N_2 $$\n",
    "\n",
    "$$ \\mbox{São sempre estáveis} $$\n",
    "\n",
    "3.  IIR: Resposta ao Impulso Infinita\n",
    "* Sistemas Contínuos: $h(t)$ $\\Rightarrow$ Papel teórico.\n",
    "\n",
    "* Sistemas Discretos: $h[n]$ $\\Rightarrow$ Papel teórico e prático (Implementação)\n",
    "\n",
    "4. Processamento em Tempo-Real e Realizável \n",
    "\n",
    "* Um sinal pode ser processado em tempo-real (produzindo uma saída em cada amostra de tempo $n$ se o sistema é causal. Caso contrário (na melhor das hipóteses) precisa esperar um atraso até que a amostra no fututo chegue no instante presente.\n",
    "\n",
    "* Se não for necessários um processamento em tempo-real então o sistema é conhecido como realizável se a saída pode ser calcula fazendo o atraso da entrada\n",
    "\n",
    "* Um sistema com infinitos coeficientes não-causais é não-realizavel."
   ]
  },
  {
   "cell_type": "markdown",
   "id": "81b300e4",
   "metadata": {},
   "source": [
    "---\n",
    "## 10. Equação Linear de Diferenças\n",
    "* Formas de descrever um sistema SLDI:\n",
    "* Resposta ao impulso $h[n]$ e soma de convolução.\n",
    "* Resposta em frequência do sistema: $H(f)$ ou $H(z)$. \n",
    "\n",
    "## Equação linear de diferenças com coeficientes constantes.\n",
    "* O sistema é descrito em termos dos valores presente e passados do sinal de entrada, e também em termos dos valores passados da saída.\n",
    "* O sistema é prontamente implementado através de blocos de atraso.\n",
    "    * Serve como base para a obtenção da resposta em frequência do sistema"
   ]
  },
  {
   "cell_type": "markdown",
   "id": "c69ce1c3",
   "metadata": {},
   "source": [
    "<center> <font size=\"4\">Equação Geral</font> </center>\n",
    "\n",
    "<font size=\"4\">$$y[n] = -\\sum_{k=1}^{N}a_ky[n-k] + \\sum_{k=0}^{M}b_kx[n-k]$$</font>\n",
    "\n",
    "em que: $a_k$ e $b_k$ são constantes e independentes de $x[n]$ e $y[n]$.\n",
    "\n",
    "$N$ é denominado de ordem do sistema."
   ]
  },
  {
   "cell_type": "markdown",
   "id": "9b437d2b",
   "metadata": {},
   "source": [
    "<center> <font size=\"4\">Forma equivalente</font> </center>\n",
    "\n",
    "<font size=\"4\">$$\\sum_{k=0}^{N}a_ky[n-k] = \\sum_{k=0}^{M}b_kx[n-k]$$</font>\n",
    "\n",
    "* em geral, $a_0=1$\n",
    "* $y[n]$ depende de $y[-1], y[-2], \\dots$ (condições iniciais).\n",
    "* Para condições iniciais nulas $\\Rightarrow$ o sistema está em repouso.\n",
    "* O sistema é recursivo pois a saída depende de valores passados de $y[n]$.\n",
    "\n",
    "$$y[n] = -\\sum_{k=1}^{N}a_ky[n-k] + \\sum_{k=0}^{M}b_kx[n-k]$$\n",
    "\n",
    "* A equação acima é a forma geral para um sistema IIR.\n",
    "* Para um sistema FIR: $a_k = 0$, $k = 1, 2, \\dots, N$\n",
    "\n",
    "$$y[n] = \\sum_{k=0}^{M}b_kx[n-k]$$\n",
    "\n",
    "* Neste caso: $h(n)=b_k$\n",
    "\n",
    "$$h[n] = \\begin{cases} b_n, & n = 0, 1, \\dots, M \\\\ 0, & cc \\end{cases}$$"
   ]
  },
  {
   "cell_type": "markdown",
   "id": "1c2407e0",
   "metadata": {},
   "source": [
    "<font size=\"4\">**Exemplo 15: Determine a equação de diferenças do acumulador e o seu diagrama de blocos.**</font> \n",
    "$$ y[n] = \\sum_{k=0}^{n}x[k] $$\n",
    "\n",
    "$$ y[n] = \\sum_{k=0}^{n-1}x[k]+x[n] \\; \\Rightarrow \\; y[n] = y[n-1] + x[n] $$\n",
    "\n",
    "* Neste caso: $N=1$; $a_1=1$; $M=0$ e $b_0=1$\n",
    "\n",
    "![Aula_3_Slide_27.png](figuras/Aula_3_Slide_27.png)"
   ]
  }
 ],
 "metadata": {
  "kernelspec": {
   "display_name": "Python 3 (ipykernel)",
   "language": "python",
   "name": "python3"
  },
  "language_info": {
   "codemirror_mode": {
    "name": "ipython",
    "version": 3
   },
   "file_extension": ".py",
   "mimetype": "text/x-python",
   "name": "python",
   "nbconvert_exporter": "python",
   "pygments_lexer": "ipython3",
   "version": "3.8.10"
  }
 },
 "nbformat": 4,
 "nbformat_minor": 5
}
