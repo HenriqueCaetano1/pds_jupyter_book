{
 "cells": [
  {
   "cell_type": "markdown",
   "id": "b0807fcc",
   "metadata": {},
   "source": [
    "# Aula 4 - Transformada de Fourier em Tempo Discreto\n",
    "\n",
    "Versão 2023\n",
    "\n",
    "Essas notas de aula podem ser compartilhadas nos termos da lincença Creative Commons CC BY-NC-ND 4.0, com propósitos exclusivamente educacionais.\n",
    "\n",
    "Attribution-NonCommercial-NoDerivatives 4.0 International\n"
   ]
  },
  {
   "cell_type": "markdown",
   "id": "ebc913a3",
   "metadata": {},
   "source": [
    "<font size=\"6\">**Introdução**</font>\n",
    "\n",
    "* A representação de Sistemas Lineares através de senóides ou exponenciais complexas é muito usual devido ao fato de que para estes sinais o sinal de saída é o mesmo sinal (senoidal) da entrada, com amplitude e fase determinadas ou modificadas pela resposta sistema.\n",
    "* Considere um sistema LTI com resposta ao impulso $h[n]$ em cuja entrada é aplicado o sinal $x[n] = e^{jwn}$.\n",
    "* Como a saída é a convolução da entrada $e^{jwn}$ com a resposta ao impulso $h[n]$ tem-se que:\n",
    "\n",
    "$$y[n] = \\sum_{k=-\\infty}^{\\infty}h[k]\\cdot e^{jw(n-k)}$$\n",
    "\n",
    "* Como o índice $n$ não entra na somatória, então:\n",
    "\n",
    "$$y[n] = e^{jwn} \\sum_{k=-\\infty}^{\\infty}h[k]e^{-jwk}$$\n",
    "\n",
    "* Definindo a função $H(e^{jw})$ tal que:\n",
    "\n",
    "$$H(e^{jw}) = \\sum_{k=-\\infty}^{\\infty}h[k]e^{-jwk}$$\n",
    "\n",
    "onde $H(e^{jw})$: é chamada de Resposta em Frequência do sistema.\n",
    "\n",
    "* Observe que $H(e^{jw})$ é a transformada de Fourier da sequência $h[n]$.\n",
    "\n",
    "* Para uma freqüência particular $w_0$ tem-se:\n",
    "\n",
    "$$y[n] = H(e^{jw_0}) e^{jw_0n}$$\n",
    "\n",
    "ou seja: $H(e^{jw})$ modifica a amplitude e fase de $e^{jwn}$ "
   ]
  },
  {
   "cell_type": "markdown",
   "id": "b40a7532",
   "metadata": {},
   "source": [
    "<font size=\"4\">Principal característica de uma sinal amostrado no tempo</font>\n",
    "\n",
    "![amostragem](figuras/Aula_4_AmostragemPeriodica.png)\n",
    "\n",
    "---\n",
    "* O conceito de resposta em frequência para sistemas contínuos e discretos no tempo é o mesmo.\n",
    "* Contudo, para os sistemas discretos a resposta em frequência é periódica com período $2\\pi$.\n",
    "\n",
    "<font size=\"5\">**Prova:**</font>\n",
    "\n",
    "$$ H(e^{j(w+2\\pi)}) = \\sum_{n=-\\infty}^{\\infty}h[n]e^{-j(w+2\\pi)n} = \\sum_{n=-\\infty}^{\\infty}h[n]e^{-jwn}e^{-j2\\pi n}$$ \n",
    "\n",
    "* Como $e^{-j2\\pi n} = \\cos(2\\pi n) - j\\sin(2\\pi n) = 1$, então:\n",
    "\n",
    "$$H(e^{j(w+2\\pi)}) = \\sum_{n=-\\infty}^{\\infty}h(n)e^{-jwn} = H(e^{jw})$$\n",
    "\n",
    "\n",
    "* Portanto $H(e^{jw})$ é periódica com período $2\\pi$."
   ]
  },
  {
   "cell_type": "markdown",
   "id": "44601ab6",
   "metadata": {},
   "source": [
    "<font size=\"5\">Representação de $H(e^{jw})$ pelo módulo e fase:</font>\n",
    "\n",
    "<font size=\"4\">$$H(e^{jw}) = \\underbrace{|H(e^{jw})|}_{\\text{Resposta de amplitude}}\\cdot \\underbrace{e^{j\\angle H(e^{jw})}}_{\\text{Resposta de fase}}$$</font>\n",
    "\n",
    "\n",
    "**Exemplo 1: Resposta em frequência do sistema $y(n) = x(n-n_d)$**\n",
    "\n",
    "* Aplicando o sinal $x(n) = e^{jwn}$ tem-se:\n",
    "\n",
    "$$ y(n) = e^{jw(n-n_d)} = e^{-jwn_d}e^{jwn} $$\n",
    "\n",
    "$$ \\Rightarrow \\; H(e^{jw}) = e^{-jwn_d} \\; \\Rightarrow \\; \\begin{cases} |H(e^{jw})| = 1 \\\\ \\angle H(e^{jw}) = -wn_d \\end{cases} $$"
   ]
  },
  {
   "cell_type": "markdown",
   "id": "a576cb1a",
   "metadata": {},
   "source": [
    "* Como $H(e^{jw})$ é periódica com período $2\\pi$, ela sempre será expressa em um dos seguintes intervalos: \n",
    "\n",
    "$$\\begin{cases} 0 \\leq w < 2\\pi \\\\ -\\pi < w \\leq \\pi \\end{cases} \\;\\; \\begin{cases} 0 \\leq f < 1 \\\\ -0.5 < f \\leq 0.5 \\end{cases}$$\n",
    "\n",
    "* Frequências digitais entre $-\\pi$ e $\\pi$ ou entre $-0.5$ e $0.5$, significam que o sistema é representado pelas frequências no tempo contínuo em um dos intervalos entre $-\\Omega_a/2$ e $\\Omega_a/2$ ou $-F_a/2$ e $F_a/2$.\n",
    "\n",
    "![aula_4_slide_6](figuras/Aula_4_Slide_6.png)"
   ]
  },
  {
   "cell_type": "markdown",
   "id": "03feb548",
   "metadata": {},
   "source": [
    "## Transformada de Fourier de Sequências\n",
    "\n",
    "* O par de transformada de Fourier de uma sequência ou sinal discreto $x(n)$ é definido por:\n",
    "\n",
    "$$ X(e^{jw}) = \\sum_{n=-\\infty}^{\\infty}x[n]e^{-jwn} \\; \\Longleftarrow \\; \\text{equação de análise} $$\n",
    "\n",
    "\n",
    "$$ x[n] = \\frac{1}{2\\pi}\\int_{-\\pi}^{\\pi}X(e^{jw})e^{jwn}dw \\; \\Longleftarrow \\; \\text{equação de síntese}$$\n",
    "\n",
    "\n",
    "$$ X(e^{jw}) \\; \\Rightarrow \\; \\begin{cases} |X(e^{jw})| &\\; \\Longleftarrow \\; \\text{Espectro de Amplitude} \\\\ ARG[X(e^{jw})] &\\; \\Longleftarrow \\; \\begin{split} &\\text{Espectro de Fase} \\\\ &\\text{(Valor Principal)}\\end{split} \\end{cases} $$ "
   ]
  },
  {
   "cell_type": "markdown",
   "id": "698fc4c8",
   "metadata": {},
   "source": [
    "<font size=\"5\">**Condições de validade**</font>\n",
    "\n",
    "* Para que a transformada de Fourier exista (convergência). A seguinte condição deve ser satisfeita:\n",
    "\n",
    "$$|X(e^{jw})|<\\infty,\\text{ para todo }w$$\n",
    "\n",
    "* Observe que:\n",
    "\n",
    "$$ |X(e^{jw})| = \\left|\\sum_{n=-\\infty}^{\\infty}x[n]e^{-jwn}\\right| \\leq \\sum_{n=-\\infty}^{\\infty}|x(n)||e^{-jwn}| $$\n",
    "\n",
    "$$ |X(e^{jw})| \\leq \\sum_{n=-\\infty}^{\\infty}|x[n]| < \\infty $$\n",
    "\n",
    "* A condição suficiente para que a transformada exista é que $x(n)$ seja absolutamente somável, isto é:\n",
    "\n",
    "$$\\sum_{n=-\\infty}^{\\infty}|x[n]| < \\infty$$"
   ]
  },
  {
   "cell_type": "markdown",
   "id": "8e5173ac",
   "metadata": {},
   "source": [
    "<font size=\"4\">**Exemplo 2: Determine a transformada de Fourier de:**</font>\n",
    "\n",
    "$$ x[n] = a^n u[n] $$\n",
    "\n",
    "$$ X(e^{jw}) = \\sum_{n=0}^{\\infty}a^ne^{-jwn} = \\sum_{n=0}^{\\infty}(ae^{-jw})^n $$\n",
    "\n",
    "* Admitindo $|ae^{-jw}|<1$ que é equivalente a admitir $|a|<1$\n",
    "\n",
    "$$ X(e^{jw}) = \\frac{1}{1-ae^{-jw}} $$\n",
    "\n",
    "![aula_4_slide_9](figuras/Aula_4_Slide_9.png)"
   ]
  },
  {
   "cell_type": "markdown",
   "id": "e7574826",
   "metadata": {},
   "source": [
    "<font size=\"4\">Exemplo 3: Determine a transformada de Fourier de:</font>\n",
    "\n",
    "$$ x[n] = \\begin{cases} A, &0 \\leq n \\leq M-1 \\\\ 0, &c.c. \\end{cases} $$\n",
    "\n",
    "$$ X(e^{jw}) = \\sum_{n=0}^{M-1}Ae^{-jwn} = A \\frac{1-e^{-jwM}}{1-e^{-jw}} = Ae^{-jw(M-1)/2}\\frac{\\sin(wM/2)}{\\sin(w/2)} $$\n",
    "\n",
    "![aula_4_slide_10](figuras/Aula_4_Slide_10.png)\n"
   ]
  },
  {
   "cell_type": "markdown",
   "id": "6d276c03",
   "metadata": {},
   "source": [
    "<font size=\"6\">2.1. Espectro Densidade de Energia</font>\n",
    "\n",
    "<font size=\"5\">**Teorema de Parseval**</font>\n",
    "\n",
    "* A energia de uma sequência é definida como: \n",
    "\n",
    "$$E_x = \\sum_{n=-\\infty}^{\\infty}|x(n)|^2$$\n",
    "\n",
    "$$E_x = \\frac{1}{2\\pi} \\int_{-\\pi}^{\\pi} |X(e^{jw})|^2 dw$$\n",
    "\n",
    "\n",
    "* A quantidade: $S_x(f) = |X(e^{jw})|^2$ representa a distribuição da Energia de $x(n)$ em função da frequência e por isso ela é chamada de **Densidade Espectral de Energia**.\n",
    "\n",
    "<font size=\"5\">**Interpretação da densidade espectral de energia**</font>\n",
    "\n",
    "![aula_4_slide_9](figuras/Aula_4_Spectral-energy-distribution.png)"
   ]
  },
  {
   "cell_type": "markdown",
   "id": "8abbc34c",
   "metadata": {},
   "source": [
    "---\n",
    "\n",
    "<font size=\"4\">**Exemplo 4: Para o sinal do exemplo 3**</font>\n",
    "\n",
    "$$ |X(e^{jw})|^2 = \\begin{cases} A^2\\left| \\frac{\\sin(wM/2)}{\\sin(w/2)} \\right|^2 \\\\ (AM)^2, \\; w=0 \\end{cases} $$\n",
    "\n",
    "* Esta definição é útil quando se trabalha com sinais aleatórios onde é definido o **Espectro Densidade de Potência**."
   ]
  },
  {
   "cell_type": "markdown",
   "id": "3a1bbee1",
   "metadata": {},
   "source": [
    "## 3. Propriedades da Transformada de Fourier\n",
    "\n",
    "<font size=\"5\">**3.1. Propriedades de Simetria**</font>\n",
    "\n",
    "<center> Sequência Conjugada Simétrica (Par) </center>\n",
    "\n",
    "$$ x_e(n) = x_e^\\ast(-n) = \\frac{1}{2}[x(n)+x^\\ast(-n)] $$\n",
    "\n",
    "<center> Sequência Conjugada Antissimétrica (Ímpar) </center>\n",
    "\n",
    "$$ x_0(n) = -x_0^\\ast(-n) = \\frac{1}{2}[x(n)-x^\\ast(-n)] $$"
   ]
  },
  {
   "cell_type": "markdown",
   "id": "9898c02f",
   "metadata": {},
   "source": [
    "<font size=\"5\">**Sequência Complexas**</font>\n",
    "\n",
    "1. $x^\\ast[n] \\leftrightarrow X^\\ast(e^{-jw})$\n",
    "2. $Re\\{x[n]\\} \\leftrightarrow X_e(e^{jw})$\n",
    "3. $Im\\{x[n]\\} \\leftrightarrow X_0(e^{jw})$\n",
    "4. $x_e[n] \\leftrightarrow X_R(e^{jw})$\n",
    "5. $x_0[n] \\leftrightarrow X_I(e^{jw})$\n",
    "\n",
    "<font size=\"5\">**Sequência Reais**</font>\n",
    "\n",
    "6. $X(e^{jw}) = X^\\ast(e^{-jw})$\n",
    "7. $X_R(e^{jw}) = X_R(e^{-jw})$\n",
    "8. $X_I(e^{jw}) = -X_I(e^{-jw})$\n",
    "9. $|X(e^{jw})| = |X(e^{-jw})|$\n",
    "10. $\\angle X(e^{jw}) = -\\angle X(e^{-jw})$"
   ]
  },
  {
   "cell_type": "markdown",
   "id": "485c6885",
   "metadata": {},
   "source": [
    "<font size=\"5\">**Propriedades e Teoremas Gerais**</font>\n",
    "\n",
    "1. Linearidade: $ax(n)+by(n) \\leftrightarrow aX(e^{jw})+bY(e^{jw}) $\n",
    "2. Desl. no tempo: $x(n-n_d) \\leftrightarrow e^{-jwn_d}X(e^{jw})$\n",
    "3. Desl. na freq.: $e^{-jw_0n}x(n) \\leftrightarrow X(e^{j(w-w_0)})$\n",
    "4. Inv. do tempo: $x(-n) \\leftrightarrow X(e^{-jw})$\n",
    "5. Diferenciação: $nx(n) \\leftrightarrow j\\frac{d}{dw}X(e^{jw})$\n",
    "6. Parseval:\n",
    "\n",
    "$$ E_x = \\sum_{n=-\\infty}^{\\infty}|x[n]|^2 = \\frac{1}{2\\pi}\\int_{-\\pi}^{\\pi}|X(e^{jw})|^2dw $$"
   ]
  },
  {
   "cell_type": "markdown",
   "id": "6d36db25",
   "metadata": {},
   "source": [
    "<font size=\"5\">**7. Convolução:**</font> \n",
    "\n",
    "\n",
    "$$ x(n)\\ast y(n) \\leftrightarrow X(e^{jw})Y(e^{jw}) $$\n",
    "\n",
    "<font size=\"5\">**8. Modulação:**</font> \n",
    "\n",
    "$$ w(n)x(n) \\leftrightarrow W(e^{jw})\\ast X(e^{jw})= \\frac{1}{2\\pi} \\int_{-\\pi}^{\\pi}X(e^{j\\theta}) W(e^{j(w-\\theta)})d\\theta $$\n",
    "\n",
    "caso: $x(n)\\cos(w_0n) \\leftrightarrow \\frac{1}{2}[X(e^{j(w+w_0)})+X(e^{j(w-w_0)})]$\n",
    "\n",
    "<font size=\"5\">Exemplo 5: Determine a transformada de Fourier de:</font>\n",
    "\n",
    "$$ x[n] = a^{|n|},\\; |a|<1 $$\n",
    "\n",
    "* Podemos expressar $x(n)$ como: $x_1(n) + x_2(n)$:\n",
    "\n",
    "$$ x_1(n)=a^n,\\; n\\geq0 \\; \\leftrightarrow \\; X_1(e^{jw})=\\frac{1}{1-ae^{-jw}} $$\n",
    "\n",
    "$$ x_2(n)=a^{-n},\\; n<0 \\; \\leftrightarrow \\; X_2(e^{jw})=\\sum_{n=-\\infty}^{-1}a^{-n}e^{-jwn} = \\sum_{n=1}^{\\infty}(ae^{jw})^n $$\n",
    "\n",
    "$$ \\Longrightarrow \\; X_2(e^{jw}) = \\frac{ae^{jw}}{1-ae^{jw}} $$\n",
    "\n",
    "* Combinando as duas transformadas (propriedade da linearidade):\n",
    "\n",
    "$$ X(e^{jw}) = X_1(e^{jw}) + X_2(e^{jw}) = \\frac{1}{1-ae^{-jw}} + \\frac{ae^{jw}}{1-ae^{jw}} $$\n",
    "\n",
    "$$ \\Longrightarrow \\; X(e^{jw}) = \\frac{1-a^2}{1-2a\\cos(w)+a^2} $$"
   ]
  },
  {
   "cell_type": "markdown",
   "id": "2f9bf238",
   "metadata": {},
   "source": [
    "<font size=\"5\">Exemplo 6: Função de transferência do Filtro de média móvel:</font>\n",
    "\n",
    "$$ y(n) = \\frac{1}{3}[x(n+1) + x(n) + x(n-1)]$$\n",
    "\n",
    "* Neste caso: $h(n) = \\frac{1}{3}\\delta(n+1) + \\frac{1}{3}\\delta(n) + \\frac{1}{3}\\delta(n-1)$ \n",
    "\n",
    "para isso usou-se a propriedade $x[n-k] = x[n]\\ast \\delta[n-k]$ e que $y[n] = h[n]\\ast x[n]$\n",
    "\n",
    "* Combinando as propriedade de linearidade, $TF\\{\\delta[n]\\} = 1$ e deslocamento no tempo tem-se:\n",
    "\n",
    "$$ H(e^{jw}) =  \\frac{1}{3}[e^{jw} + 1 + e^{-jw}] = \\frac{1}{3} + \\frac{2}{3}\\cos(w)$$\n",
    "\n",
    "$$ |H(e^{jw})| = \\frac{1}{3}|1+2\\cos(w)| \\; \\; \\Phi(w) = \\begin{cases} 0, &0\\leq w < \\frac{2\\pi}{3} \\\\ \\pi, &\\frac{2\\pi}{3}\\leq w < \\pi \\end{cases} $$\n",
    "\n",
    "![aula_4_slide_17](figuras/Aula_4_Slide_17.png)"
   ]
  }
 ],
 "metadata": {
  "kernelspec": {
   "display_name": "Python 3 (ipykernel)",
   "language": "python",
   "name": "python3"
  },
  "language_info": {
   "codemirror_mode": {
    "name": "ipython",
    "version": 3
   },
   "file_extension": ".py",
   "mimetype": "text/x-python",
   "name": "python",
   "nbconvert_exporter": "python",
   "pygments_lexer": "ipython3",
   "version": "3.8.10"
  }
 },
 "nbformat": 4,
 "nbformat_minor": 5
}