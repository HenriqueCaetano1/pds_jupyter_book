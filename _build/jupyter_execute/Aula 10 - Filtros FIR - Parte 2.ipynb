{
 "cells": [
  {
   "cell_type": "markdown",
   "id": "09617f30",
   "metadata": {},
   "source": [
    "# Aula 10 - Filtros FIR - Parte 2\n",
    "Versão 2023\n",
    "\n",
    "Essas notas de aula podem ser compartilhadas nos termos da lincença Creative Commons CC BY-NC-ND 4.0, com propósitos exclusivamente educacionais.\n",
    "\n",
    "Attribution-NonCommercial-NoDerivatives 4.0 International"
   ]
  },
  {
   "cell_type": "markdown",
   "id": "335dc2ef",
   "metadata": {},
   "source": [
    "## Função de transferência do filtro\n",
    "\n",
    "$ y[n] = x[n]*h[n] \\to H(z) = \\frac{Y(z)}{X(z)} = H(z) = \\sum_{k=0}^{M-1}h[k]z^{-k} $\n",
    "\n",
    "\n",
    "### Condição de Fase Linear\n",
    "\n",
    "#### Um filtro FIR apresenta fase linear se a seguinte condição for satisfeita:\n",
    "\n",
    "#### $ h[n] = h[M-1-n] $\n",
    "\n",
    "#### $ h[n] = h[M-n] $\n",
    "\n",
    "#### $ h[n] = -h[M-1-n] $\n",
    "\n",
    "#### $ h[n] = -h[M-n] $\n",
    "\n",
    "### um filtro FIR apresenta fase linear quando a resposta ao impulso $h[n]$ é simétrica em torno do ponto $(M-1)/2$.\n",
    "\n",
    "#### Este filtro é conhecido como filtro FIR tipo I ou II, dependendo de $M$ ser ímpar ou par.\n",
    "#### Existem outras condições de simetria para o filtro FIR com fase linear que serão apresentadas adiante."
   ]
  },
  {
   "cell_type": "markdown",
   "id": "bed24a96",
   "metadata": {},
   "source": [
    "- Para mostrar esta condição vamos admitir $M$ um número par. Assim, a função de  transferência do filtro será:\n",
    "### $ H(z) = z^{-\\left( \\frac{M-1}{2} \\right)} \\sum_{k=0}^{\\frac{M}{2}-1}h_k \\left[ z^{\\left( \\frac{M-1}{2}-k \\right)}+ z^{-\\left( \\frac{M-1}{2}-k \\right)} \\right] $\n",
    "\n",
    "- Substituindo $z$ por $e^{jw}$, tem-se:\n",
    "\n",
    "### $ H(e^{jw}) = e^{-jw\\left( \\frac{M-1}{2} \\right)} \\sum_{k=0}^{\\frac{M}{2}-1}h_k \\left[ e^{jw\\left( \\frac{M-1}{2}-k \\right)} + e^{-jw\\left( \\frac{M-1}{2}-k \\right)} \\right] $\n",
    "\n",
    "### $ H(e^{jw}) = e^{-jw\\left( \\frac{M-1}{2} \\right)} \\sum_{k=0}^{\\frac{M}{2}-1}2h_k\\cos\\left( w\\left( \\frac{M-1}{2}-k \\right)\\right) $"
   ]
  },
  {
   "cell_type": "markdown",
   "id": "b6273dea",
   "metadata": {},
   "source": [
    "- A equação acima apresenta um termo real $[H_r(w)]$ e uma fase linear $\\Theta(w)$.\n",
    "\n",
    "$ \\text{módulo: }\\quad H_r(e^{jw}) = \\sum_{k=0}^{\\frac{M}{2}-1}2h_k\\cos\\left(w\\left( \\frac{M-1}{2}-k \\right) \\right) $\n",
    "\n",
    "$ \\text{fase linear: }\\quad \\Theta(e^{jw}) = \\begin{cases} -w\\frac{M-1}{2}, &H_r\\geq0 \\\\ -w\\frac{M-1}{2}+\\pi, &H_r<0 \\end{cases} $"
   ]
  },
  {
   "cell_type": "markdown",
   "id": "b21ef0d6",
   "metadata": {},
   "source": [
    "## 1a. Parte \n",
    "\n",
    "### Projeto de Filtros FIR por janelas"
   ]
  },
  {
   "cell_type": "markdown",
   "id": "669eabe9",
   "metadata": {},
   "source": [
    "### Filtros FIR por Janelas\n",
    "\n",
    "- É baseado na aproximação da resposta em frequência desejada, com a condição de fase linear.\n",
    "- O projeto inicia-se com a especificação da resposta desejada.\n",
    "    - Em seguida a determinação da resposta ao impulso.\n",
    "    - Truncamento de $h[n]$ por janelas:\n",
    "    \n",
    "    - $ h_d[n] = \\frac{1}{2\\pi}\\int_{-\\pi}^{\\pi}H_d(e^{jw})e^{jwn}dw $\n",
    "    \n",
    "    - A característica de freqüência desejada é aquela dos filtros ideais.\n",
    "    - $h_d[n]$ deve ser causal.\n",
    "    - $h_d[n]$ tem duração infinita.\n",
    "        - Logo ela deve ser truncada no ponto $n = M-1$."
   ]
  },
  {
   "cell_type": "markdown",
   "id": "8b3ed888",
   "metadata": {},
   "source": [
    "$ h[n] = \\begin{cases} h_d[n] &:n=0,1,\\dots,M-1 \\\\ 0 &:c.c. \\end{cases} $\n",
    "\n",
    "- Se o truncamento for direto, a operação é equivalente a multiplicar $h_d[n]$ por uma janela retangular do tipo:\n",
    "\n",
    "$ w[n] = \\begin{cases} 1, &n=0,1,\\dots,M-1 \\\\ 0, &c.c. \\end{cases} $\n",
    "\n",
    "- E a resposta à amostra unitária do filtro será dada por:\n",
    "\n",
    "$ h[n]=h_d[n]w[n] = \\begin{cases} h_d[n], &n=0,1,2,\\dots,M-1 \\\\ 0, &c.c. \\end{cases} $\n",
    "\n",
    "- As consequências desta multiplicação (ou truncamento) são melhor compreendidas analisando $h[n]$ no domínio da frequência.\n",
    "\n",
    "$ H(e^{jw}) = H_d(e^{jw})\\ast W(e^{jw}) = \\frac{1}{2\\pi} \\int_{-\\pi}^{\\pi}H_d(e^{j\\theta})W(e^{j(w-\\theta)})d\\theta $\n",
    "\n",
    "- A operação de convolução produz uma resposta em frequência que é uma versão “manchada” da resposta em frequência desejada.\n",
    "- Para a janela retangular a resposta em frequência é dada por:\n",
    "\n",
    "$ W(e^{jw}) = e^{-jw\\frac{M-1}{2}}\\frac{\\sin(wM/2)}{\\sin(w/2)} $\n",
    "\n",
    "- A figura seguinte mostra o efeito da convolução entre $H(e^{jw})$ e $W(e^{jw})$ para um filtro passa-baixas ideal."
   ]
  },
  {
   "cell_type": "markdown",
   "id": "8919c203",
   "metadata": {},
   "source": [
    "- Os lóbulos laterais da janela retangular provocam o efeito de oscilação na resposta em frequência do filtro.\n",
    "- A janela poderia ser escolhida para ter banda estreita.\n",
    "- Outras janela com transição mais suave.\n",
    "\n",
    "![implementacao_fir](figuras/Aula_9_Slide_9_1.png)\n",
    "![implementacao_fir](figuras/Aula_9_Slide_9_2.png)"
   ]
  },
  {
   "cell_type": "markdown",
   "id": "b413901b",
   "metadata": {},
   "source": [
    "## Algumas Janelas para o Projeto de Filtros FIR\n",
    "\n",
    "### Janela Retangular\n",
    "\n",
    "$ w[n] = \\begin{cases} 1, &n=0,1,2,\\dots,M-1 \\\\ 0, &c.c. \\end{cases} $\n",
    "\n",
    "![implementacao_fir](figuras/Aula_9_Slide_11.png)\n"
   ]
  },
  {
   "cell_type": "markdown",
   "id": "14d16ad7",
   "metadata": {},
   "source": [
    "### Janela de Bartlett\n",
    "\n",
    "$ w[n] = \\begin{cases} \\frac{2n}{(M-1)}, &0\\leq n \\leq (M-1)/2 \\\\ 2\\left( \\frac{1-n}{(M-1)} \\right), &(M-1)/2<n\\leq M-1 ) \\\\ 0, &c.c. \\end{cases} $\n",
    "\n",
    "![implementacao_fir](figuras/Aula_9_Slide_12.png)\n"
   ]
  },
  {
   "cell_type": "markdown",
   "id": "b0d22d9b",
   "metadata": {},
   "source": [
    "### Janela de Hamming\n",
    "\n",
    "$ w[n] = \\begin{cases} 0.54-0.46\\cos\\left( \\frac{2\\pi n}{M-1} \\right), &0\\leq n \\leq M-1 \\\\ 0, &c.c. \\end{cases} $\n",
    "\n",
    "![implementacao_fir](figuras/Aula_9_Slide_13.png)"
   ]
  },
  {
   "cell_type": "markdown",
   "id": "f2a5401c",
   "metadata": {},
   "source": [
    "### Exemplo de Projeto\n",
    "\n",
    "- Projeto de um filtro FIR passa-baixas com frequência de corte $w_c$, fase linear e ordem $M-1$.\n",
    "    - A resposta em frequência do filtro ideal é dada por:\n",
    "    $ H_d(e^{jw}) = \\begin{cases} e^{-jw\\frac{M-1}{2}}, &|w|<w_c \\\\ 0, &w_c<|w|<\\pi \\end{cases} $\n",
    "    - Cálculo da resposta ao impulso:\n",
    "    \n",
    "$ h_d[n] = \\frac{1}{2\\pi}\\int_{-w_c}^{w_c}e^{-jw\\frac{M-1}{2}}e^{jwn}dw = \\frac{1}{2\\pi}\\int_{-w_c}^{w_c}e^{jw\\left(n-\\frac{M-1}{2}\\right)}dw = \\frac{\\sin\\left[ w_c\\left( n-\\frac{M-1}{2} \\right) \\right]}{\\pi\\left( n-\\frac{M-1}{2} \\right)} $\n",
    "\n",
    "Observe que $h_d[n] = h_d[M-1-n]$ $\\Rightarrow$ Fase Linear\n",
    "\n",
    "\n",
    "- Multiplicando $h_d[n]$ por uma das janelas anteriores tem-se:\n",
    "$ h[n] = \\frac{\\sin\\left[ w_c \\left( n-\\frac{M-1}{2} \\right) \\right]}{\\pi\\left( n-\\frac{M-1}{2} \\right)}w[n] $\n",
    "\n",
    "**Exemplo:** $f_c=0.4$ ($w_c=0.8\\pi$); $M=51$; Janela <font color=red>Retangular</font> e <font color=blue>de Hamming</font>\n",
    "\n",
    "![implementacao_fir](figuras/Aula_9_Slide_17.png)\n"
   ]
  },
  {
   "cell_type": "markdown",
   "id": "91d0dade",
   "metadata": {},
   "source": [
    "**Admitindo M=9**\n",
    "\n",
    "![implementacao_fir](figuras/Aula_9_Slide_18f.png)\n"
   ]
  },
  {
   "cell_type": "markdown",
   "id": "c8699738",
   "metadata": {},
   "source": [
    "### Tabela para o projeto de janelas\n",
    "\n",
    "|Janela|Amplitude do lóbulo lateral (dB)|Largura da transição ($\\Delta f$)|\n",
    "|:---:|:---:|:---:|\n",
    "|**retangular**|-13|$0.9/(M-1)$|\n",
    "|**hanning**|-31|$3.1/(M-1)$|\n",
    "|**hamming**|-41|$3.3/(M-1)$|\n",
    "|**blackman**|-57|$5.5/(M-1)$|"
   ]
  },
  {
   "cell_type": "markdown",
   "id": "c5b2c309",
   "metadata": {},
   "source": [
    "### Roteiro de Projeto\n",
    "\n",
    "- Dados: a atenuação mínima na banda de atenuação e a banda de transição: \n",
    "- Escolhe-se a janela,\n",
    "    - $w[n]$\n",
    "- Determina-se o tamanho $M$ da janela.\n",
    "    - Na tabela anterior, $M - 1$ é a ordem do filtro\n",
    "- Determina-se a resposta ao impulso do filtro desejado:\n",
    "    - $h_d[n]$\n",
    "- Resposta ao impulso do filtro FIR:\n",
    "    - $h[n] = h_d[n]\\cdot w[n]$"
   ]
  },
  {
   "cell_type": "markdown",
   "id": "4565d41c",
   "metadata": {},
   "source": [
    "## Projeto de Filtros FIR Utilizando Janela de Kaiser\n",
    "\n",
    "- **Janela Ideal:** É aquela que no domínio da frequência é maximamente concentrada em torno de $w = 0$.\n",
    "- A janela de Kaiser se aproxima desta condição Ideal.\n",
    "- Equação:\n",
    "$ w[n] = \\begin{cases} \\frac{I_0\\left\\{ \\beta \\left[ 1- \\left( \\frac{n-\\alpha}{\\alpha} \\right)^2 \\right]^\\frac{1}{2} \\right\\}}{I_0(\\beta)}, &0\\leq n\\leq M \\\\ 0, &c.c. \\end{cases} $\n",
    "\n",
    "Em que:  $\\alpha = M/2$ e $I_0[ \\cdot ]$ representa a função de Bessel modificada de ordem zero. \n",
    "\n",
    "No caso de $\\beta = 0$ a janela se reduz à retangular."
   ]
  },
  {
   "cell_type": "markdown",
   "id": "1772e1f6",
   "metadata": {},
   "source": [
    "### Especificações de Projeto:\n",
    "- $\\delta_1$ e $\\delta_2$: erros máximos nas bandas de passagem e de atenuação\n",
    "- Frequências das bandas de passagem ($w_p$) e atenuação ($w_s$)\n",
    "\n",
    "**Admitindo:** $\\delta=Min(\\delta_1,\\delta_2)$; $\\Delta w=w_s-w_p$; $w_c=(w_p+w_s)/2$\n",
    "\n",
    "![implementacao_fir](figuras/Aula_9_Slide_23.png)\n",
    "\n"
   ]
  },
  {
   "cell_type": "markdown",
   "id": "d1a2d723",
   "metadata": {},
   "source": [
    "### Roteiro de Projeto: Dados: $w_p$, $w_s$ e $\\delta$.\n",
    "\n",
    "1. Defina o erro em dB:\n",
    "$ A=-20\\log_{10}(\\delta) \\text{ em que: } \\delta=Min[\\delta_1,\\delta_2] $\n",
    "2. Determine a constante $\\beta$ através da seguinte expressão:\n",
    "\n",
    "$ \\beta = \\begin{cases} \n",
    "0.1102(A-8.7), &A>50 \\\\  \n",
    "0.5842(A-21)^{0.4}+0.07886(A-21), &21\\leq A\\leq 50 \\\\\n",
    "0, &A<21\n",
    "\\end{cases} $\n",
    "\n",
    "3. A ordem $M$ é calculada utilizando a banda de transição:\n",
    "\n",
    "$ M = \\frac{A-8}{2.285\\Delta w}, \\text{ em que: }\\Delta w=w_s-w_p $\n",
    "\n",
    "4. Resposta ao Impulso para o filtro passa-baixas:\n",
    "\n",
    "$ h[n] = \\begin{cases}\n",
    "\\frac{\\sin(w_c(n-\\alpha))}{\\pi(n-\\alpha)}\\frac{I_0[\\nu]}{I_0[\\beta]}, &0\\leq n\\leq M \\\\\n",
    "0, &c.c.\n",
    "\\end{cases}\n",
    "$\n",
    "\n",
    "$ \\text{em que: } \\nu=\\beta\\left[ 1- \\left( \\frac{n-\\alpha}{\\alpha} \\right)^2 \\right]^\\frac{1}{2} \\text{ e } \\alpha=M/2 $\n",
    "\n",
    "5. Função de Bessel $I_0(x)$\n",
    "\n",
    "$ I_0(x) = 1+\\sum_{k=1}^{\\infty}\\left[ \\frac{1}{k!}\\left(\\frac{x}{2}\\right)^k \\right]^2 $ \n",
    "\n",
    "Em que: $k=25$ é suficiente\n",
    "\n",
    "6. O mesmo procedimento poderia ser feito para filtros passa altas, passa banda ou rejeita banda."
   ]
  },
  {
   "cell_type": "markdown",
   "id": "81078a0f",
   "metadata": {},
   "source": [
    "### Resposta ao Impulso dos Filtros\n",
    "\n",
    "$ h_{lp}[n] = \\frac{\\sin[w_c(n-M/2)]}{\\pi(n-M/2)} $\n",
    "\n",
    "$ h_{hp}[n] = \\frac{\\sin[\\pi(n-M/2)]}{\\pi(n-M/2)}-\\frac{\\sin[w_c(n-M/2)]}{\\pi(n-M/2)} $\n",
    "\n",
    "$ h_{bp}[n] = \\frac{1}{\\pi(n-M/2)}\\{ \\sin[w_{c2}(n-M/2)]-\\sin[w_{c1}(n-M/2)] \\} $\n",
    "\n",
    "$ \\text{onde: } w_{c2}>w_{c1} $$\n",
    "\n",
    "$ h_{sp}[n] = \\frac{1}{\\pi(n-M/2)}\\{ \\sin[w_{c1}(n-M/2)]-\\sin[w_{c2}(n-M/2)] \\} $"
   ]
  },
  {
   "cell_type": "markdown",
   "id": "57eab517",
   "metadata": {},
   "source": [
    "## 2a. Parte\n",
    "\n",
    "## Projeto de Filtros FIR por Amostragem em Frequência\n",
    "\n",
    "## Restrição: Fase linear"
   ]
  },
  {
   "cell_type": "markdown",
   "id": "76e7be05",
   "metadata": {},
   "source": [
    "- Um filtro FIR com fase linear e ordem $M-1$ apresenta a seguinte condição de simetria:\n",
    "$ h[n]=h[M-1-n] $\n",
    "- Admitindo $M = 5$  $\\Rightarrow$  $h[0] = h[4]$; $h[1] = h[3]$ e $h[2]$ (ponto de simetria).\n",
    "\n",
    "$\n",
    "\\begin{split}\n",
    "H(e^{jw})&=h[0]+h[1]e^{-jw}+h[2]e^{-j2w}+h[3]e^{-j3w}+h[4]e^{-j4w} \\\\\n",
    "&= e^{-j2w}[h[0](e^{j2w}+e^{-j2w})+h[2]+h[1](e^{jw}+e^{-jw})] \\\\\n",
    "&= e^{-j2w}[h[2]+2h[1]\\cos(w)+2h[0]\\cos(2w)]\n",
    "\\end{split}\n",
    "$\n",
    "\n",
    "- A equação acima é composta de duas partes: (uma parte real e outra imaginária).\n",
    "\n",
    "$ \\text{Termo Real: }\n",
    "\\begin{cases}\n",
    "H_r(e^{jw}) = [h[2]+2h[1]\\cos(w)+2h[0]\\cos(2w)] \\\\\n",
    "|H(e^{jw})| = |H_r(e^{jw})|\n",
    "\\end{cases}\n",
    "$\n",
    "\n",
    "$ \\text{Termo de Fase: } \\Theta(e^{jw}) = \n",
    "\\begin{cases}\n",
    "-2w, &H_r(e^{jw})\\geq0 \\\\\n",
    "-2w+\\pi, &H_r(e^{jw})<0\n",
    "\\end{cases}\n",
    "$\n",
    "\n",
    "- Admitindo $M = 4$  $\\Rightarrow$  $h[0] = h[3]$; $h[1] = h[2]$, tem-se:\n",
    "$ H(e^{jw}) = e^{-j\\frac{3}{2}w} \\left[ 2h[0]\\cos\\left(\\frac{3w}{2}\\right) + 2h[1]\\cos\\left(\\frac{w}{2}\\right) \\right] $\n",
    "\n",
    "- Novamente, o termo entre colchetes é real e define o módulo de $H(e^{jw})$."
   ]
  },
  {
   "cell_type": "markdown",
   "id": "479fd4a7",
   "metadata": {},
   "source": [
    "- a característica de fase será dada por:\n",
    "\n",
    "$ \\Theta(e^{jw}) = \n",
    "\\begin{cases}\n",
    "-\\frac{3}{2}w, & H_r(e^{jw})\\geq0 \\\\\n",
    "-\\frac{3}{2}w+\\pi, & H_r(e^{jw})<0\n",
    "\\end{cases}\n",
    "$\n",
    "\n",
    "- Observe que nas relações anteriores o cálculo da resposta em frequência é reduzido pela metade.\n",
    "- A generalização para uma ordem $M – 1$ será vista a seguir.\n",
    "- Este método de projeto é desenvolvido a partir da especificação da resposta em frequência desejada."
   ]
  },
  {
   "cell_type": "markdown",
   "id": "965307b4",
   "metadata": {},
   "source": [
    "- Generalizando os dois exemplos anteriores tem-se:\n",
    "\n",
    "$ H(e^{jw}) = H_r(e^{jw})e^{-jw\\frac{M-1}{2}} $\n",
    "\n",
    "$ H_r(e^{jw}) = \n",
    "\\begin{cases}\n",
    "h\\left(\\frac{M-1}{2}\\right)+2\\sum_{n=0}^{\\frac{M-1}{2}-1}h[n]\\cos\\left(\\frac{M-1}{2}-n\\right)w, & M \\text{ ímpar} \\\\\n",
    "2\\sum_{n=0}^{\\frac{M}{2}-1}h[n]\\cos\\left(\\frac{M-1}{2}-n\\right)w, & M \\text{ par}\n",
    "\\end{cases}\n",
    "$\n",
    "\n",
    "$ \\Theta(e^{jw}) = \n",
    "\\begin{cases}\n",
    "-\\frac{M-1}{2}w, &H_r(e^{jw})\\geq0 \\\\\n",
    "-\\frac{M-1}{2}w+\\pi, &H_r(e^{jw})<0\n",
    "\\end{cases}\n",
    "$"
   ]
  },
  {
   "cell_type": "markdown",
   "id": "d167a5a7",
   "metadata": {},
   "source": [
    "- As relações anteriores são utilizadas para se projetar filtros pelo método de amostragem em frequência.\n",
    "- Este método é realizado a partir da especificação da resposta em frequência desejada $H(e^{jw})$ em frequências discretas tais que:\n",
    "$ w_k=\\frac{2\\pi}{M}(k+\\alpha) \\; \n",
    "\\begin{cases}\n",
    "k=0,1,\\dots,\\frac{M-1}{2} & \\text{M  ímpar}\\\\\n",
    "k=0,1,\\dots,\\frac{M}{2}-1 & \\text{M par}\n",
    "\\end{cases}\n",
    "$\n",
    "- em que $\\alpha$ é igual a $0$ ou $1/2$. Utilizaremos $\\alpha = 0$.\n",
    "- Nas frequências especificadas por $w_k$ tem-se:\n",
    "$ H(k) = H(w_k) = H\\left(\\frac{2\\pi}{M}k\\right) = \\sum_{n=0}^{M-1}h[n]e^{-j\\frac{2\\pi}{M}kn} $"
   ]
  },
  {
   "cell_type": "markdown",
   "id": "e5354ad8",
   "metadata": {},
   "source": [
    "- Como $\\alpha = 0$ o cálculo de $h[n]$ se resume a calcular a TDF inversa de $H(k)$. Assim,\n",
    "\n",
    "$ h[n] = \\frac{1}{M}\\sum_{k=0}^{M}H(k)e^{-j\\frac{2\\pi}{M}nk} $\n",
    "\n",
    "- A equação acima pode ser simplificada lembrando que $h[n]$ é real e portanto $H(k)$ apresenta módulo par e fase ímpar, ou seja\n",
    "\n",
    "$ H(k)=H^\\ast(M-1-k) $\n",
    "\n",
    "- Esta propriedade permite calcular $h[n]$ utilizando $(M+1)/2$ especificações em frequências ($M$ ímpar) ou $M/2$ ($M$ par).\n",
    "\n",
    "- Considere a equação abaixo:\n",
    "\n",
    "$ H(e^{jw}) = H_r(e^{jw})e^{-jw\\frac{M-1}{2}} $"
   ]
  },
  {
   "cell_type": "markdown",
   "id": "d9d58c63",
   "metadata": {},
   "source": [
    "- Admitindo $w = w_k$ tem-se:\n",
    "\n",
    "$\n",
    "\\begin{split}\n",
    "H(k) &= H_r(k)e^{-j\\frac{2\\pi}{M}k\\frac{M-1}{2}} = H_r(k)e^{-j\\pi k}e^{j\\frac{\\pi}{M}k} \\\\\n",
    "(-1)^kH_r(k)e^{j\\frac{\\pi}{M}k}\n",
    "\\end{split}\n",
    "$\n",
    "\n",
    "$ \\text{Admitindo: } G(k) = (-1)^kH_r(k) \\; \\Rightarrow \\; H(k)=G_r(k)e^{j\\frac{\\pi}{M}k} $\n",
    "\n",
    "- Explorando a equação acima e as propriedades de simetria de $h[n]$ e $H(k)$ chega-se que:\n",
    "\n",
    "$\n",
    "\\begin{cases}\n",
    "h[n] = \\frac{1}{M}\\left\\{G(0)+2\\sum_{k=1}^{U}G(k)\\cos\\left(\\frac{2\\pi}{M}\\right)k\\left(N+\\frac{1}{2}\\right)\\right\\} \\\\\n",
    "\\text{em que: } U=\\frac{M-1}{2}: \\text{(M ímpar) ou } \\frac{M}{2}-1: \\text{ (M par)}\n",
    "\\end{cases}\n",
    "$"
   ]
  },
  {
   "cell_type": "markdown",
   "id": "3d08a4ce",
   "metadata": {},
   "source": [
    "### Exemplo: Determine os coeficientes de um filtro FIR com fase linear tal que:  $M=15$, $T_1 = 0.4$ e $H_r(k)$ é dada abaixo:\n",
    "\n",
    "$ H_r(k) = \n",
    "\\begin{cases}\n",
    "1, &k=0,1,2,3 \\\\\n",
    "T_1, &k=4 \\\\\n",
    "0, &k=5,6,7\n",
    "\\end{cases} \\begin{split}&\\text{ Em que: o termo T1 = 0.4 }\\\\&\\text{ representa a banda de transição.}\\end{split}\n",
    "$\n",
    "\n",
    "![implementacao_fir](figuras/Aula_9_Slide_35.png)\n",
    "\n",
    "$ \\text{Solução: } h[n]=\\frac{1}{15}\\left\\{ G(0)+2\\sum_{k=1}^{7}G(k)\\cos\\left(\\frac{2\\pi}{15}\\right)k\\left(n+\\frac{1}{2}\\right) \\right\\} $"
   ]
  }
 ],
 "metadata": {
  "kernelspec": {
   "display_name": "Python 3 (ipykernel)",
   "language": "python",
   "name": "python3"
  },
  "language_info": {
   "codemirror_mode": {
    "name": "ipython",
    "version": 3
   },
   "file_extension": ".py",
   "mimetype": "text/x-python",
   "name": "python",
   "nbconvert_exporter": "python",
   "pygments_lexer": "ipython3",
   "version": "3.8.10"
  }
 },
 "nbformat": 4,
 "nbformat_minor": 5
}