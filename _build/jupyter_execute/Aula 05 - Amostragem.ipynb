{
 "cells": [
  {
   "cell_type": "markdown",
   "id": "6fb8f0b4",
   "metadata": {},
   "source": [
    "# Aula 5 - Amostragem\n",
    "\n",
    "Versão 2023\n",
    "\n",
    "Essas notas de aula podem ser compartilhadas nos termos da lincença Creative Commons CC BY-NC-ND 4.0, com propósitos exclusivamente educacionais.\n",
    "\n",
    "Attribution-NonCommercial-NoDerivatives 4.0 International\n"
   ]
  },
  {
   "cell_type": "markdown",
   "id": "522a2852",
   "metadata": {},
   "source": [
    "<font size=\"6\">**Introdução**</font>\n",
    "\n",
    "- A teoria da Amostragem é a base matemática para se obter um sinal $x(n)$ discreto no tempo a partir de um sinal $x(t)$ contínuo no tempo.\n",
    "- A obtenção de uma sequência de amostras $x(n)$ a partir de um sinal $x(t)$ contínuo no tempo pode ser representada pela seguinte relação:\n",
    "\n",
    "$$ x(n) = x(t)|_{t=nT_a} = x(nT_a) $$\n",
    "\n",
    "- Em que:\n",
    "    - $n$ um número inteiro,\n",
    "    - $T_a$ é o período de amostragem do sinal,\n",
    "    - $F_a = 1/T_a$ é a freqüência de amostragem\n",
    "- Na prática a operação de amostragem é executada por um conversor AD (analógico-digital) que inclui também a quantização das amplitudes das amostras."
   ]
  },
  {
   "cell_type": "markdown",
   "id": "75d737c3",
   "metadata": {},
   "source": [
    "<font size=\"5\">**O Problema da Amostragem**</font>\n",
    "\n",
    "![aula_4_slide_17](figuras/Aula_5_a.png)\n",
    "\n",
    "Observa-se que para um conjunto de amostras $x[n]$, existem inúmeras funções $x_i(t)$ que passa por esses pontos, $x_1(nT) = x_2(nT)$\n",
    "\n",
    "Sempre é possível amostrar funções que atendam as condições de Dirichlet, $x(t) \\to x(nT) \\to x[n]$\n",
    "\n",
    "Porém, a garantia de se reconstruir $x(t)$ a partir de suas amostras, é necessária restrições adicionais sobre o sinal contínuo $x(t)$\n",
    "\n",
    "**As condições de Dirichlet são:**\n",
    "\n",
    "1. O sinal deve ser absolutamente integrável, $\\sum_{-\\infty}^{\\infty} |x(t)|dt < \\infty$ \n",
    "\n",
    "2. Em um intervalo qualquer sinal, não deve existir infinitos pontos de máximo e mínimo\n",
    "\n",
    "3. Em um intervalo finito qualquer do sinal, não devem existir infinitas descontinuidades\n"
   ]
  },
  {
   "cell_type": "markdown",
   "id": "4fab4ea5",
   "metadata": {},
   "source": [
    "<font size=\"5\">**Representação Matemática**</font>\n",
    "\n",
    "![aula_5_slide_3](figuras/Aula_5_Slide_3.png)\n",
    "\n",
    "- O sinal $s(t)$ é um trem de impulsos periódicos tal que:\n",
    "\\begin{equation} s(t) = \\sum_{n=-\\infty}^{\\infty}\\delta(t-nT_a) \\tag{2}\\end{equation}\n",
    "\n",
    "- Como o sinal amostrado é o produto de $s(t)$ por $x(t)$, então:\n",
    "\\begin{equation} x_a(t) = x(nT_a) = x(t)s(t) = \\sum_{n=-\\infty}^{\\infty}x(t)\\delta(t-nT_a) \\tag{3} \\end{equation}\n"
   ]
  },
  {
   "cell_type": "markdown",
   "id": "1d18d38f",
   "metadata": {},
   "source": [
    "- Calculando a transformada de Fourier tem-se:\n",
    "\n",
    "$$ \\Longrightarrow S(\\Omega) = \\frac{2\\pi}{T_a}\\sum_{k=-\\infty}^{\\infty}\\delta(\\Omega-k\\Omega_a), \\text{em que: } \\Omega_a=\\frac{2\\pi}{T_a}$$\n",
    "\n",
    "$$ \\Longrightarrow X_a(\\Omega) = \\frac{1}{2\\pi} X(\\Omega)\\ast S(\\Omega) \\text{ (Teor. da Convolução)}$$\n",
    "\n",
    "$$ \\Longrightarrow X_a(\\Omega) = \\frac{1}{T_a}\\sum_{k=-\\infty}^{\\infty}X(\\Omega-k\\Omega_a)$$\n",
    "\n",
    "- $X_a(\\Omega)$ consiste de cópias regularmente espaçadas de $X(\\Omega)$\n",
    "- O espaçamento é dado por múltiplos inteiros de $\\Omega_a$.\n",
    "- Estas cópias são superpostas como mostra a figura abaixo:\n",
    "\n",
    "![aula_5_slide_5](figuras/Aula_5_Slide_5.png)"
   ]
  },
  {
   "cell_type": "markdown",
   "id": "337ac2a5",
   "metadata": {},
   "source": [
    "![aula_5_slide_6](figuras/Aula_5_Slide_6.png)\n",
    "\n",
    "- Observe que para não haver superposição de Espectros:\n",
    "\n",
    "$$ \\Omega_a - \\Omega_M > \\Omega_M \\; \\Longrightarrow \\; \\Omega_a > 2\\Omega_M $$\n",
    "\n",
    "- Se a condição acima é satisfeita as réplicas de $X(\\Omega)$ não irão se superporem.\n",
    "\n",
    "- Em cada período tem-se uma réplica exata de $X(\\Omega)$.\n",
    "\n",
    "- Portanto o sinal $x(t)$ pode ser recuperado a partir de $x_a(t)$ através de um filtro passa-baixas com corte em $\\Omega_c = \\Omega_M$\n"
   ]
  },
  {
   "cell_type": "markdown",
   "id": "17083159",
   "metadata": {},
   "source": [
    "<font size=\"5\">**Recuperação de x(t)**</font>\n",
    "\n",
    "![aula_5_slide_7](figuras/Aula_5_Slide_7.png)\n",
    "\n",
    "- Se a condição $\\Omega_a > 2\\Omega_M$ não é satisfeita, as réplicas de $X(\\Omega)$ se sobrepõem, modificando o espectro do sinal original.\n",
    "\n",
    "- O sinal na banda básica aparecerá distorcido e não poderá ser recuperado. Este efeito é conhecido como ‘aliasing’."
   ]
  },
  {
   "cell_type": "markdown",
   "id": "31be4c99",
   "metadata": {},
   "source": [
    "<font size=\"5\">**Teorema da Amostragem**</font>\n",
    "\n",
    "- A discussão anterior forma a base para se enunciar o teorema da amostragem.\n",
    "\n",
    "Um sinal $x(t)$, contínuo no tempo e limitado em banda tal que a frequência máxima de seu espectro seja $\\Omega_M$, isto é:\n",
    "\n",
    "$$X(\\Omega) = 0, \\; |\\Omega| > |\\Omega_M|$$\n",
    "\n",
    "pode ser recuperado unicamente a partir de suas amostras $x(n) = x(nT_a)$, tomadas em intervalos regularmente espaçados tais que:\n",
    "\n",
    "$$\\Omega_a = \\frac{2\\pi}{T_a} > 2\\Omega_M \\text{ ou } F_a > 2F_M $$\n",
    "\n",
    "- $\\Omega_M$ ou $F_M$ $\\Longrightarrow$ Freqüência de Nyquist.\n",
    "- $\\Omega_a$ ou $F_a$ $\\Longrightarrow$ Taxa de Nyquist."
   ]
  },
  {
   "cell_type": "markdown",
   "id": "1ba98d66",
   "metadata": {},
   "source": [
    "<font size=\"5\">**Exemplos de Osciloscópios**</font>\n",
    "\n",
    "![osciloscopio](figuras/OsciloscopiosTektronics.png)\n",
    "\n",
    "\n",
    "1. Osciloscópio Digital TBS1102B 2 Canais 100MHz Tektronix\n",
    "    Osciloscópio Digital Tektronix de 2 Canais 100 MHz, excelente custo benefício, leve e compacto, display colorido com 7 polegadas, 2 canais, banda de 100MHz, Taxa de amostragem 2GS/s simultâneo em todos os canais.\n",
    "2. Osciloscópio digital de 200 MHz, 2 canais, taxa de amostragem mínima 2GS/s por canal simultaneamente para medidas em tempo real, 02 digitalizadores independentes. Tela de cristal líquido WVGA colorida de 7 polegadas. Dois canais de frequencímetro de 6 dígitos."
   ]
  },
  {
   "cell_type": "markdown",
   "id": "6463caeb",
   "metadata": {},
   "source": [
    "<font size=\"5\">**Exemplos de Aliasing**</font>\n",
    "\n",
    "![aula_5_b](figuras/Aula_5_b.png)\n",
    "\n",
    "Sem Aliasing (figura da esquerda)\n",
    "\n",
    "Com Aliasing (figura da direita)"
   ]
  },
  {
   "cell_type": "markdown",
   "id": "96837a6a",
   "metadata": {},
   "source": [
    "<font size=\"5\">**Diagrama em Blocos**</font>\n",
    "\n",
    "![aula_1_slide_3](figuras/Aula_1_Slide_3.png)\n"
   ]
  },
  {
   "cell_type": "markdown",
   "id": "430bf846",
   "metadata": {},
   "source": [
    "<font size=\"5\">**Interpretação da reconstrução no tempo**</font>\n",
    "\n",
    "![aula_5_c1](figuras/Aula_5_c1.png)\n",
    "\n",
    "![aula_5_c2](figuras/Aula_5_c2.png)\n",
    "\n",
    "![aula_5_c3](figuras/Aula_5_c3.png)"
   ]
  },
  {
   "cell_type": "markdown",
   "id": "e182acb6",
   "metadata": {},
   "source": [
    "<font size=\"5\">**Exemplo de amostragem de uma senoide não respeitando Nyquist**</font>\n",
    "\n",
    "Seja $x(t) = cos(500\\pi t)$.\n",
    "\n",
    "1. Determine a sequência $x[n]$ para uma frequência de amostragem igual a 1000 Hz;\n",
    "2. Determine a sequência $x[n]$ para uma frequência de amostragem igual a 200 Hz; (resp: $cos(0.5 \\pi n)$);\n",
    "3. A partir de $x[n]$ do item anterior determine o novo sinal no domínio do tempo contínuo $x'(t)$\n",
    "\n",
    "**Solução**\n",
    "\n",
    "\n",
    "De forma geral tem-se, $x[n] = x(nT)$. Do exemplo proposto, tem-se $500\\pi = 2\\pi f_o$, $f_o = 250$ Hz. \n",
    "\n",
    "1. $T=\\frac{1}{1000}$ então $x[n] = \\cos(500\\pi n \\frac{1}{1000}) = \\cos(\\frac{n\\pi}{2}) $. Como $F_a > 2f_o$ essa amostragem atende o critério de Nyquist;\n",
    "\n",
    "2. $T=\\frac{1}{200}$. Então $x[n] = \\cos(500\\pi n \\frac{1}{200}) = \\cos(\\frac{5n\\pi}{2}) $. Neste caso não atende o critério de Nyquist;\n",
    "\n",
    "3. Quem é $x'(t)$ tal que $x[n] = \\cos(\\frac{5n\\pi}{2}) \\to x'(t)$\n",
    "\n",
    "recordando $x_a(t) = x(t)s(t)$ então $X_a(\\Omega) = X(\\Omega)*S(\\Omega)$ onde:\n",
    "\n",
    "$s(t) = \\sum_{n=-\\infty}^{\\infty} \\delta(t - nT)$ então $S(\\Omega) = TF\\{s(t)\\} = \\frac{1}{2\\pi}\\sum_{k=-\\infty}^{\\infty} \\Phi(\\Omega -k\\Omega_a)$\n",
    "\n",
    "Observa-se que $S(\\Omega)$ é um trem de impulsos em frequência e $X_a(\\Omega) = X(\\Omega)*S(\\Omega)$\n",
    "\n",
    "$X_a(\\Omega) = X(\\Omega)*\\frac{1}{2\\pi}\\sum_{k=-\\infty}^{\\infty} \\Phi(\\Omega -k\\Omega_a)$\n",
    "\n",
    "$X_a(\\Omega) = \\frac{1}{2\\pi}\\sum_{k=-\\infty}^{\\infty} X(\\Omega)*\\Phi(\\Omega -k\\Omega_a)$\n",
    "\n",
    "$X_a(\\Omega) = \\frac{1}{2\\pi}\\sum_{k=-\\infty}^{\\infty} X(\\Omega -k\\Omega_a)$\n",
    "\n",
    "\n",
    "Com a propriedade ($x(t-t_0) = x(t)*\\delta(t-t_0)$, na frequência) tem-se que $X_a(\\Omega)$ será a repetição periódica do espectro de \n",
    "$X(\\Omega)$ espaçados de $\\Omega_a$.\n",
    "Para que não tenha _aliasing_ tem-se $X(\\Omega)=0, \\Omega > \\Omega_M$ e $\\Omega_a > 2\\Omega_M$.\n",
    "\n",
    "\n",
    "No contexo do problema, o sinal $x(t) = \\cos(\\Omega_{250} t)$ onde $\\Omega_{250} = 2\\pi250$ rad/s e $X(\\Omega) = -\\delta(\\Omega+\\Omega_{250}) + \\delta(\\Omega - \\Omega_{250})$.\n",
    "\n",
    "Para reconstruir esse sinal, o espectro, $X(\\Omega)$ será deslocado de $200$ Hz (frequência de amostragem). O resultado dessa operação será filtrado (idealmente) para retirar a repetição do espectro. O filtro (filtro reconstrutor) adotado é, por convenção, metade da frequência de amostragem $\\Omega_{100} = 2\\pi 100$.\n",
    "\n",
    "* para $k = 0$, $X_a(\\Omega) = -\\delta(\\Omega+\\Omega_{250}) + \\delta(\\Omega - \\Omega_{250})$ e como os impulsos estão acima dos $100$ Hz serão bloqueados;\n",
    "\n",
    "* para $k = 1$, $X_a(\\Omega) = -\\delta(\\Omega+\\Omega_{250-200}) + \\delta(\\Omega - \\Omega_{250+200})$ e, neste caso o impulso em 450 Hz será retirado mas o impulso em -50 Hz passa pelo filtro;\n",
    "\n",
    "* para $k = -1$, $X_a(\\Omega) = -\\delta(\\Omega+\\Omega_{250+200}) + \\delta(\\Omega - \\Omega_{250-200})$ e, neste caso o impulso em -450 Hz será retirado mas o impulso em 50 Hz passa pelo filtro;\n",
    "\n",
    "* para $k = 2$, $X_a(\\Omega) = -\\delta(\\Omega+\\Omega_{250+400}) + \\delta(\\Omega - \\Omega_{250-400})$ e, neste caso ambos os impulsos serão serão bloquados;\n",
    "\n",
    "Para qualquer valor $|k| > 2$ os impulsos serão bloqueados. \n",
    "\n",
    "E, neste caso, $X_a(t)$ será composto apenas pelos impulsos $-\\delta(\\Omega + \\Omega_{50})$ e $\\delta(\\Omega - \\Omega_{50})$ \n",
    "\n",
    "$X_a(\\Omega) = -\\delta(\\Omega + \\Omega_{50}) + \\delta(\\Omega - \\Omega_{50})$, logo $x(t) = \\cos(50\\pi 2t)$"
   ]
  }
 ],
 "metadata": {
  "kernelspec": {
   "display_name": "Python 3 (ipykernel)",
   "language": "python",
   "name": "python3"
  },
  "language_info": {
   "codemirror_mode": {
    "name": "ipython",
    "version": 3
   },
   "file_extension": ".py",
   "mimetype": "text/x-python",
   "name": "python",
   "nbconvert_exporter": "python",
   "pygments_lexer": "ipython3",
   "version": "3.8.10"
  }
 },
 "nbformat": 4,
 "nbformat_minor": 5
}